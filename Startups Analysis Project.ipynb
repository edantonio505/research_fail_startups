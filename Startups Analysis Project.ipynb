{
 "cells": [
  {
   "cell_type": "code",
   "execution_count": 1,
   "metadata": {},
   "outputs": [],
   "source": [
    "import pandas as pd\n",
    "import numpy as np\n",
    "import matplotlib.pyplot as plt\n",
    "import matplotlib.ticker as ticker\n",
    "import seaborn as sns\n",
    "import scipy.stats as stats\n",
    "%matplotlib inline"
   ]
  },
  {
   "cell_type": "code",
   "execution_count": 2,
   "metadata": {},
   "outputs": [],
   "source": [
    "# Constants\n",
    "# ==========\n",
    "#\n",
    "# Tail Number\n",
    "TAIL_NUMBER = 5"
   ]
  },
  {
   "cell_type": "markdown",
   "metadata": {},
   "source": [
    "# Gather the collected Datasets\n",
    "\n",
    "<p>\n",
    "    With the purpose of analyzing the data, we loads all the gathered datasets on to the notebook. \n",
    "</p>"
   ]
  },
  {
   "cell_type": "markdown",
   "metadata": {},
   "source": [
    "### Angel List Dataset"
   ]
  },
  {
   "cell_type": "code",
   "execution_count": 3,
   "metadata": {},
   "outputs": [
    {
     "data": {
      "text/html": [
       "<div>\n",
       "<style scoped>\n",
       "    .dataframe tbody tr th:only-of-type {\n",
       "        vertical-align: middle;\n",
       "    }\n",
       "\n",
       "    .dataframe tbody tr th {\n",
       "        vertical-align: top;\n",
       "    }\n",
       "\n",
       "    .dataframe thead th {\n",
       "        text-align: right;\n",
       "    }\n",
       "</style>\n",
       "<table border=\"1\" class=\"dataframe\">\n",
       "  <thead>\n",
       "    <tr style=\"text-align: right;\">\n",
       "      <th></th>\n",
       "      <th>Company</th>\n",
       "      <th>Link</th>\n",
       "      <th>Pitch</th>\n",
       "      <th>Joined</th>\n",
       "      <th>Location</th>\n",
       "      <th>Market</th>\n",
       "      <th>Website</th>\n",
       "      <th>Employees</th>\n",
       "      <th>Stage</th>\n",
       "      <th>Total_raised</th>\n",
       "    </tr>\n",
       "  </thead>\n",
       "  <tbody>\n",
       "    <tr>\n",
       "      <th>374</th>\n",
       "      <td>Octavian Ventures</td>\n",
       "      <td>https://angel.co/octavian-ventures</td>\n",
       "      <td>Seed capital Angel Fund</td>\n",
       "      <td>Dec ’13</td>\n",
       "      <td>Las Vegas</td>\n",
       "      <td>Pre Seed</td>\n",
       "      <td>octavianventures.com</td>\n",
       "      <td>1-10</td>\n",
       "      <td>Series A</td>\n",
       "      <td>$15,000,000</td>\n",
       "    </tr>\n",
       "    <tr>\n",
       "      <th>375</th>\n",
       "      <td>ShopLocket</td>\n",
       "      <td>https://angel.co/shoplocket</td>\n",
       "      <td>The easiest way to start collecting pre-orders.</td>\n",
       "      <td>Feb ’12</td>\n",
       "      <td>Toronto</td>\n",
       "      <td>Mobile Commerce</td>\n",
       "      <td>shoplocket.com</td>\n",
       "      <td>11-50</td>\n",
       "      <td>Acquired</td>\n",
       "      <td>$1,000,000</td>\n",
       "    </tr>\n",
       "    <tr>\n",
       "      <th>376</th>\n",
       "      <td>Minbox</td>\n",
       "      <td>https://angel.co/minbox</td>\n",
       "      <td>Changing the way you work</td>\n",
       "      <td>Mar ’12</td>\n",
       "      <td>San Francisco</td>\n",
       "      <td>File Sharing</td>\n",
       "      <td>minbox.com</td>\n",
       "      <td>1-10</td>\n",
       "      <td>Seed</td>\n",
       "      <td>-</td>\n",
       "    </tr>\n",
       "    <tr>\n",
       "      <th>377</th>\n",
       "      <td>Metail</td>\n",
       "      <td>https://angel.co/metail</td>\n",
       "      <td>Virtual fittingroom technology for fashion ret...</td>\n",
       "      <td>Feb ’12</td>\n",
       "      <td>London</td>\n",
       "      <td>Retail Technology</td>\n",
       "      <td>metail.com</td>\n",
       "      <td>11-50</td>\n",
       "      <td>NaN</td>\n",
       "      <td>$24,886,349</td>\n",
       "    </tr>\n",
       "    <tr>\n",
       "      <th>378</th>\n",
       "      <td>Wanderable</td>\n",
       "      <td>https://angel.co/wanderable</td>\n",
       "      <td>Register for adventure. Live for love.</td>\n",
       "      <td>May ’12</td>\n",
       "      <td>Redwood City</td>\n",
       "      <td>Weddings</td>\n",
       "      <td>wanderable.com</td>\n",
       "      <td>1-10</td>\n",
       "      <td>Acquired</td>\n",
       "      <td>-</td>\n",
       "    </tr>\n",
       "  </tbody>\n",
       "</table>\n",
       "</div>"
      ],
      "text/plain": [
       "               Company                                Link  \\\n",
       "374  Octavian Ventures  https://angel.co/octavian-ventures   \n",
       "375         ShopLocket         https://angel.co/shoplocket   \n",
       "376             Minbox             https://angel.co/minbox   \n",
       "377             Metail             https://angel.co/metail   \n",
       "378         Wanderable         https://angel.co/wanderable   \n",
       "\n",
       "                                                 Pitch   Joined  \\\n",
       "374                            Seed capital Angel Fund  Dec ’13   \n",
       "375    The easiest way to start collecting pre-orders.  Feb ’12   \n",
       "376                          Changing the way you work  Mar ’12   \n",
       "377  Virtual fittingroom technology for fashion ret...  Feb ’12   \n",
       "378            Register for adventure. Live for love.   May ’12   \n",
       "\n",
       "          Location             Market               Website Employees  \\\n",
       "374      Las Vegas           Pre Seed  octavianventures.com      1-10   \n",
       "375        Toronto    Mobile Commerce        shoplocket.com     11-50   \n",
       "376  San Francisco       File Sharing            minbox.com      1-10   \n",
       "377         London  Retail Technology            metail.com     11-50   \n",
       "378   Redwood City           Weddings        wanderable.com      1-10   \n",
       "\n",
       "        Stage Total_raised  \n",
       "374  Series A  $15,000,000  \n",
       "375  Acquired   $1,000,000  \n",
       "376      Seed            -  \n",
       "377       NaN  $24,886,349  \n",
       "378  Acquired            -  "
      ]
     },
     "execution_count": 3,
     "metadata": {},
     "output_type": "execute_result"
    }
   ],
   "source": [
    "angelco_df = pd.read_csv('datasets/angelco/angelco_companies.csv')\n",
    "angelco_df.tail(TAIL_NUMBER)"
   ]
  },
  {
   "cell_type": "code",
   "execution_count": 4,
   "metadata": {},
   "outputs": [
    {
     "name": "stdout",
     "output_type": "stream",
     "text": [
      "Number of records: 379\n",
      "Number of columns: 10\n"
     ]
    }
   ],
   "source": [
    "print(\"Number of records: {}\".format(angelco_df.shape[0]))\n",
    "print(\"Number of columns: {}\".format(angelco_df.shape[1]))"
   ]
  },
  {
   "cell_type": "code",
   "execution_count": 5,
   "metadata": {},
   "outputs": [
    {
     "data": {
      "text/html": [
       "<div>\n",
       "<style scoped>\n",
       "    .dataframe tbody tr th:only-of-type {\n",
       "        vertical-align: middle;\n",
       "    }\n",
       "\n",
       "    .dataframe tbody tr th {\n",
       "        vertical-align: top;\n",
       "    }\n",
       "\n",
       "    .dataframe thead th {\n",
       "        text-align: right;\n",
       "    }\n",
       "</style>\n",
       "<table border=\"1\" class=\"dataframe\">\n",
       "  <thead>\n",
       "    <tr style=\"text-align: right;\">\n",
       "      <th></th>\n",
       "      <th>name</th>\n",
       "      <th>email</th>\n",
       "      <th>product_desc</th>\n",
       "      <th>high_concept</th>\n",
       "      <th>location</th>\n",
       "      <th>market1</th>\n",
       "      <th>market2</th>\n",
       "      <th>market3</th>\n",
       "    </tr>\n",
       "  </thead>\n",
       "  <tbody>\n",
       "    <tr>\n",
       "      <th>1039</th>\n",
       "      <td>AlwaysOn</td>\n",
       "      <td>http://www.aonetwork.com</td>\n",
       "      <td>AlwaysOn was founded by Tony Perkins, one of S...</td>\n",
       "      <td>Powering the global Silicon Valley</td>\n",
       "      <td>San Francisco</td>\n",
       "      <td>Social Network Media</td>\n",
       "      <td>Crowdfunding</td>\n",
       "      <td>Big Data Analytics</td>\n",
       "    </tr>\n",
       "    <tr>\n",
       "      <th>1040</th>\n",
       "      <td>Instore</td>\n",
       "      <td>https://instoredoes.com</td>\n",
       "      <td>POS is dead. Smart merchants have moved on to ...</td>\n",
       "      <td>Happy selling — instoredoes.com</td>\n",
       "      <td>San Francisco</td>\n",
       "      <td>Loyalty Programs</td>\n",
       "      <td>Retail Technology</td>\n",
       "      <td>Mobile Payments</td>\n",
       "    </tr>\n",
       "    <tr>\n",
       "      <th>1041</th>\n",
       "      <td>StartupList</td>\n",
       "      <td>http://startupli.st</td>\n",
       "      <td>StartupList gets startups early adopter tracti...</td>\n",
       "      <td>The social network to drive traction for early...</td>\n",
       "      <td>San Francisco</td>\n",
       "      <td>Consumer Internet</td>\n",
       "      <td>Social Media</td>\n",
       "      <td>Advertising</td>\n",
       "    </tr>\n",
       "    <tr>\n",
       "      <th>1042</th>\n",
       "      <td>Mailgun</td>\n",
       "      <td>http://www.mailgun.com</td>\n",
       "      <td>APIs that allow developers and their apps to s...</td>\n",
       "      <td>Modern Email Platform for Developers</td>\n",
       "      <td>San Francisco</td>\n",
       "      <td>Developer APIs</td>\n",
       "      <td>Email</td>\n",
       "      <td>Developer Tools</td>\n",
       "    </tr>\n",
       "    <tr>\n",
       "      <th>1043</th>\n",
       "      <td>WaterSmart Software</td>\n",
       "      <td>http://watersmart.com</td>\n",
       "      <td>WaterSmart Software provides water utilities w...</td>\n",
       "      <td>Opower for Water</td>\n",
       "      <td>San Francisco</td>\n",
       "      <td>Analytics</td>\n",
       "      <td>Energy Efficiency</td>\n",
       "      <td>Green</td>\n",
       "    </tr>\n",
       "  </tbody>\n",
       "</table>\n",
       "</div>"
      ],
      "text/plain": [
       "                     name                     email  \\\n",
       "1039             AlwaysOn  http://www.aonetwork.com   \n",
       "1040              Instore   https://instoredoes.com   \n",
       "1041          StartupList       http://startupli.st   \n",
       "1042              Mailgun    http://www.mailgun.com   \n",
       "1043  WaterSmart Software     http://watersmart.com   \n",
       "\n",
       "                                           product_desc  \\\n",
       "1039  AlwaysOn was founded by Tony Perkins, one of S...   \n",
       "1040  POS is dead. Smart merchants have moved on to ...   \n",
       "1041  StartupList gets startups early adopter tracti...   \n",
       "1042  APIs that allow developers and their apps to s...   \n",
       "1043  WaterSmart Software provides water utilities w...   \n",
       "\n",
       "                                           high_concept       location  \\\n",
       "1039                 Powering the global Silicon Valley  San Francisco   \n",
       "1040                    Happy selling — instoredoes.com  San Francisco   \n",
       "1041  The social network to drive traction for early...  San Francisco   \n",
       "1042               Modern Email Platform for Developers  San Francisco   \n",
       "1043                                   Opower for Water  San Francisco   \n",
       "\n",
       "                   market1            market2             market3  \n",
       "1039  Social Network Media       Crowdfunding  Big Data Analytics  \n",
       "1040      Loyalty Programs  Retail Technology     Mobile Payments  \n",
       "1041     Consumer Internet       Social Media         Advertising  \n",
       "1042        Developer APIs              Email     Developer Tools  \n",
       "1043             Analytics  Energy Efficiency               Green  "
      ]
     },
     "execution_count": 5,
     "metadata": {},
     "output_type": "execute_result"
    }
   ],
   "source": [
    "angelco_kaggle_df = pd.read_csv('datasets/angelco/uStartups.csv')\n",
    "angelco_kaggle_df.columns\n",
    "angelco_kaggle_df.tail(TAIL_NUMBER)"
   ]
  },
  {
   "cell_type": "code",
   "execution_count": 6,
   "metadata": {},
   "outputs": [
    {
     "name": "stdout",
     "output_type": "stream",
     "text": [
      "Number of records: 1044\n",
      "Number of columns: 8\n"
     ]
    }
   ],
   "source": [
    "print(\"Number of records: {}\".format(angelco_kaggle_df.shape[0]))\n",
    "print(\"Number of columns: {}\".format(angelco_kaggle_df.shape[1]))"
   ]
  },
  {
   "cell_type": "markdown",
   "metadata": {},
   "source": [
    "## Enigma Dataset"
   ]
  },
  {
   "cell_type": "code",
   "execution_count": 7,
   "metadata": {},
   "outputs": [
    {
     "data": {
      "text/html": [
       "<div>\n",
       "<style scoped>\n",
       "    .dataframe tbody tr th:only-of-type {\n",
       "        vertical-align: middle;\n",
       "    }\n",
       "\n",
       "    .dataframe tbody tr th {\n",
       "        vertical-align: top;\n",
       "    }\n",
       "\n",
       "    .dataframe thead th {\n",
       "        text-align: right;\n",
       "    }\n",
       "</style>\n",
       "<table border=\"1\" class=\"dataframe\">\n",
       "  <thead>\n",
       "    <tr style=\"text-align: right;\">\n",
       "      <th></th>\n",
       "      <th>sec_file_number</th>\n",
       "      <th>irs_number</th>\n",
       "      <th>filed_as_of_date</th>\n",
       "      <th>entity_name</th>\n",
       "      <th>issuer_name</th>\n",
       "      <th>primary_issuer_address1</th>\n",
       "      <th>primary_issuer_address2</th>\n",
       "      <th>primary_issuer_city</th>\n",
       "      <th>primary_issuer_state_or_country</th>\n",
       "      <th>primary_issuer_state_or_country_description</th>\n",
       "      <th>...</th>\n",
       "      <th>other_type_security_offered</th>\n",
       "      <th>other_type_security_offered_description</th>\n",
       "      <th>is_business_combination_transaction</th>\n",
       "      <th>is_business_combination_transaction_clarification</th>\n",
       "      <th>dollar_ammount_sales_commissions</th>\n",
       "      <th>dollar_ammount_sales_commissions_is_estimate</th>\n",
       "      <th>dollar_ammount_finders_fees</th>\n",
       "      <th>sales_commissions_clarification</th>\n",
       "      <th>dollar_ammount_use_of_proceeds</th>\n",
       "      <th>use_of_proceeds_clarification</th>\n",
       "    </tr>\n",
       "  </thead>\n",
       "  <tbody>\n",
       "    <tr>\n",
       "      <th>22983</th>\n",
       "      <td>021-324261</td>\n",
       "      <td>680232575.0</td>\n",
       "      <td>2018-10-24</td>\n",
       "      <td>theMaven, Inc.</td>\n",
       "      <td>theMaven, Inc.</td>\n",
       "      <td>1500 FOURTH AVENUE, SUITE 200</td>\n",
       "      <td>NaN</td>\n",
       "      <td>SEATTLE</td>\n",
       "      <td>WA</td>\n",
       "      <td>WASHINGTON</td>\n",
       "      <td>...</td>\n",
       "      <td>NaN</td>\n",
       "      <td>NaN</td>\n",
       "      <td>False</td>\n",
       "      <td>NaN</td>\n",
       "      <td>0</td>\n",
       "      <td>NaN</td>\n",
       "      <td>0</td>\n",
       "      <td>NaN</td>\n",
       "      <td>0</td>\n",
       "      <td>NaN</td>\n",
       "    </tr>\n",
       "    <tr>\n",
       "      <th>22984</th>\n",
       "      <td>021-323385</td>\n",
       "      <td>330526900.0</td>\n",
       "      <td>2018-10-12</td>\n",
       "      <td>NEIGHBORHOOD BANCORP</td>\n",
       "      <td>NEIGHBORHOOD BANCORP</td>\n",
       "      <td>1717 SWEETWATER RD.</td>\n",
       "      <td>NaN</td>\n",
       "      <td>NATIONAL CITY</td>\n",
       "      <td>CA</td>\n",
       "      <td>CALIFORNIA</td>\n",
       "      <td>...</td>\n",
       "      <td>NaN</td>\n",
       "      <td>NaN</td>\n",
       "      <td>False</td>\n",
       "      <td>NaN</td>\n",
       "      <td>0</td>\n",
       "      <td>NaN</td>\n",
       "      <td>0</td>\n",
       "      <td>NaN</td>\n",
       "      <td>0</td>\n",
       "      <td>NaN</td>\n",
       "    </tr>\n",
       "    <tr>\n",
       "      <th>22985</th>\n",
       "      <td>021-323450</td>\n",
       "      <td>382806518.0</td>\n",
       "      <td>2018-10-12</td>\n",
       "      <td>FENTURA FINANCIAL INC</td>\n",
       "      <td>FENTURA FINANCIAL INC</td>\n",
       "      <td>175 NORTH LEROY</td>\n",
       "      <td>NaN</td>\n",
       "      <td>FENTON</td>\n",
       "      <td>MI</td>\n",
       "      <td>MICHIGAN</td>\n",
       "      <td>...</td>\n",
       "      <td>NaN</td>\n",
       "      <td>NaN</td>\n",
       "      <td>False</td>\n",
       "      <td>NaN</td>\n",
       "      <td>525000</td>\n",
       "      <td>True</td>\n",
       "      <td>0</td>\n",
       "      <td>NaN</td>\n",
       "      <td>0</td>\n",
       "      <td>NaN</td>\n",
       "    </tr>\n",
       "    <tr>\n",
       "      <th>22986</th>\n",
       "      <td>021-323964</td>\n",
       "      <td>0.0</td>\n",
       "      <td>2018-10-19</td>\n",
       "      <td>THERALASE TECHNOLOGIES INC /FI</td>\n",
       "      <td>THERALASE TECHNOLOGIES INC /FI</td>\n",
       "      <td>41 Hollinger Road</td>\n",
       "      <td>NaN</td>\n",
       "      <td>TORONTO</td>\n",
       "      <td>A6</td>\n",
       "      <td>ONTARIO, CANADA</td>\n",
       "      <td>...</td>\n",
       "      <td>NaN</td>\n",
       "      <td>NaN</td>\n",
       "      <td>False</td>\n",
       "      <td>NaN</td>\n",
       "      <td>0</td>\n",
       "      <td>NaN</td>\n",
       "      <td>0</td>\n",
       "      <td>NaN</td>\n",
       "      <td>0</td>\n",
       "      <td>NaN</td>\n",
       "    </tr>\n",
       "    <tr>\n",
       "      <th>22987</th>\n",
       "      <td>021-324681</td>\n",
       "      <td>593304822.0</td>\n",
       "      <td>2018-10-30</td>\n",
       "      <td>PILOT BANCSHARES INC</td>\n",
       "      <td>PILOT BANCSHARES INC</td>\n",
       "      <td>12471 W. LINEBAUGH AVENUE</td>\n",
       "      <td>NaN</td>\n",
       "      <td>TAMPA</td>\n",
       "      <td>FL</td>\n",
       "      <td>FLORIDA</td>\n",
       "      <td>...</td>\n",
       "      <td>NaN</td>\n",
       "      <td>NaN</td>\n",
       "      <td>False</td>\n",
       "      <td>NaN</td>\n",
       "      <td>484359</td>\n",
       "      <td>NaN</td>\n",
       "      <td>0</td>\n",
       "      <td>NaN</td>\n",
       "      <td>0</td>\n",
       "      <td>NaN</td>\n",
       "    </tr>\n",
       "  </tbody>\n",
       "</table>\n",
       "<p>5 rows × 51 columns</p>\n",
       "</div>"
      ],
      "text/plain": [
       "      sec_file_number   irs_number filed_as_of_date  \\\n",
       "22983      021-324261  680232575.0       2018-10-24   \n",
       "22984      021-323385  330526900.0       2018-10-12   \n",
       "22985      021-323450  382806518.0       2018-10-12   \n",
       "22986      021-323964          0.0       2018-10-19   \n",
       "22987      021-324681  593304822.0       2018-10-30   \n",
       "\n",
       "                          entity_name                     issuer_name  \\\n",
       "22983                  theMaven, Inc.                  theMaven, Inc.   \n",
       "22984            NEIGHBORHOOD BANCORP            NEIGHBORHOOD BANCORP   \n",
       "22985           FENTURA FINANCIAL INC           FENTURA FINANCIAL INC   \n",
       "22986  THERALASE TECHNOLOGIES INC /FI  THERALASE TECHNOLOGIES INC /FI   \n",
       "22987            PILOT BANCSHARES INC            PILOT BANCSHARES INC   \n",
       "\n",
       "             primary_issuer_address1 primary_issuer_address2  \\\n",
       "22983  1500 FOURTH AVENUE, SUITE 200                     NaN   \n",
       "22984            1717 SWEETWATER RD.                     NaN   \n",
       "22985                175 NORTH LEROY                     NaN   \n",
       "22986              41 Hollinger Road                     NaN   \n",
       "22987      12471 W. LINEBAUGH AVENUE                     NaN   \n",
       "\n",
       "      primary_issuer_city primary_issuer_state_or_country  \\\n",
       "22983             SEATTLE                              WA   \n",
       "22984       NATIONAL CITY                              CA   \n",
       "22985              FENTON                              MI   \n",
       "22986             TORONTO                              A6   \n",
       "22987               TAMPA                              FL   \n",
       "\n",
       "      primary_issuer_state_or_country_description  \\\n",
       "22983                                  WASHINGTON   \n",
       "22984                                  CALIFORNIA   \n",
       "22985                                    MICHIGAN   \n",
       "22986                             ONTARIO, CANADA   \n",
       "22987                                     FLORIDA   \n",
       "\n",
       "                   ...               other_type_security_offered  \\\n",
       "22983              ...                                       NaN   \n",
       "22984              ...                                       NaN   \n",
       "22985              ...                                       NaN   \n",
       "22986              ...                                       NaN   \n",
       "22987              ...                                       NaN   \n",
       "\n",
       "      other_type_security_offered_description  \\\n",
       "22983                                     NaN   \n",
       "22984                                     NaN   \n",
       "22985                                     NaN   \n",
       "22986                                     NaN   \n",
       "22987                                     NaN   \n",
       "\n",
       "       is_business_combination_transaction  \\\n",
       "22983                                False   \n",
       "22984                                False   \n",
       "22985                                False   \n",
       "22986                                False   \n",
       "22987                                False   \n",
       "\n",
       "      is_business_combination_transaction_clarification  \\\n",
       "22983                                               NaN   \n",
       "22984                                               NaN   \n",
       "22985                                               NaN   \n",
       "22986                                               NaN   \n",
       "22987                                               NaN   \n",
       "\n",
       "      dollar_ammount_sales_commissions  \\\n",
       "22983                                0   \n",
       "22984                                0   \n",
       "22985                           525000   \n",
       "22986                                0   \n",
       "22987                           484359   \n",
       "\n",
       "      dollar_ammount_sales_commissions_is_estimate  \\\n",
       "22983                                          NaN   \n",
       "22984                                          NaN   \n",
       "22985                                         True   \n",
       "22986                                          NaN   \n",
       "22987                                          NaN   \n",
       "\n",
       "      dollar_ammount_finders_fees sales_commissions_clarification  \\\n",
       "22983                           0                             NaN   \n",
       "22984                           0                             NaN   \n",
       "22985                           0                             NaN   \n",
       "22986                           0                             NaN   \n",
       "22987                           0                             NaN   \n",
       "\n",
       "       dollar_ammount_use_of_proceeds  use_of_proceeds_clarification  \n",
       "22983                               0                            NaN  \n",
       "22984                               0                            NaN  \n",
       "22985                               0                            NaN  \n",
       "22986                               0                            NaN  \n",
       "22987                               0                            NaN  \n",
       "\n",
       "[5 rows x 51 columns]"
      ]
     },
     "execution_count": 7,
     "metadata": {},
     "output_type": "execute_result"
    }
   ],
   "source": [
    "enigma_dataset = pd.read_csv(\"datasets/enigma_dataset/enigma_dataset.csv\")\n",
    "enigma_dataset.tail(TAIL_NUMBER)"
   ]
  },
  {
   "cell_type": "code",
   "execution_count": 8,
   "metadata": {},
   "outputs": [
    {
     "name": "stdout",
     "output_type": "stream",
     "text": [
      "Number of records: 22624\n",
      "Number of columns: 51\n"
     ]
    }
   ],
   "source": [
    "enigma_dataset.drop_duplicates(inplace=True)\n",
    "print(\"Number of records: {}\".format(enigma_dataset.shape[0]))\n",
    "print(\"Number of columns: {}\".format(enigma_dataset.shape[1]))"
   ]
  },
  {
   "cell_type": "markdown",
   "metadata": {},
   "source": [
    "## Autopsy dataset"
   ]
  },
  {
   "cell_type": "code",
   "execution_count": 9,
   "metadata": {
    "scrolled": false
   },
   "outputs": [
    {
     "data": {
      "text/html": [
       "<div>\n",
       "<style scoped>\n",
       "    .dataframe tbody tr th:only-of-type {\n",
       "        vertical-align: middle;\n",
       "    }\n",
       "\n",
       "    .dataframe tbody tr th {\n",
       "        vertical-align: top;\n",
       "    }\n",
       "\n",
       "    .dataframe thead th {\n",
       "        text-align: right;\n",
       "    }\n",
       "</style>\n",
       "<table border=\"1\" class=\"dataframe\">\n",
       "  <thead>\n",
       "    <tr style=\"text-align: right;\">\n",
       "      <th></th>\n",
       "      <th>Date_of_Failure</th>\n",
       "      <th>Startup</th>\n",
       "      <th>Idea</th>\n",
       "      <th>Reason_for_Failure</th>\n",
       "      <th>Full_Story</th>\n",
       "      <th>Founder</th>\n",
       "      <th>Startup_link</th>\n",
       "      <th>Full_story_link</th>\n",
       "      <th>Founder_link</th>\n",
       "    </tr>\n",
       "  </thead>\n",
       "  <tbody>\n",
       "    <tr>\n",
       "      <th>157</th>\n",
       "      <td>Apr 2008</td>\n",
       "      <td>Nouncer</td>\n",
       "      <td>micro-blogging service</td>\n",
       "      <td>lacked the audience my product needed to succeed</td>\n",
       "      <td>The Last AnNounce(r)ment</td>\n",
       "      <td>@eranhammer</td>\n",
       "      <td>https://www.crunchbase.com/organization/nouncer</td>\n",
       "      <td>http://hueniverse.com/2008/04/25/the-last-anno...</td>\n",
       "      <td>https://twitter.com/eranhammer</td>\n",
       "    </tr>\n",
       "    <tr>\n",
       "      <th>158</th>\n",
       "      <td>Jul 2007</td>\n",
       "      <td>Backfence</td>\n",
       "      <td>create hyper-local community sites</td>\n",
       "      <td>internal problems made it impossible to reach ...</td>\n",
       "      <td>Co-Founder Potts Shares Lessons Learned from B...</td>\n",
       "      <td>@pottsmark</td>\n",
       "      <td>https://www.crunchbase.com/organization/backfence</td>\n",
       "      <td>http://www.pbs.org/mediashift/2007/07/co-found...</td>\n",
       "      <td>https://twitter.com/pottsmark</td>\n",
       "    </tr>\n",
       "    <tr>\n",
       "      <th>159</th>\n",
       "      <td>Jan 2007</td>\n",
       "      <td>Bitpass</td>\n",
       "      <td>Online micropayments</td>\n",
       "      <td>crappy business model, tried to do too much, l...</td>\n",
       "      <td>Bitpass Croaks: Is This the End of Micropayments?</td>\n",
       "      <td>@_nvs</td>\n",
       "      <td>https://www.crunchbase.com/organization/bitpass</td>\n",
       "      <td>http://venturebeat.com/2007/01/19/bitpass-croa...</td>\n",
       "      <td>http://twitter.com/_nvs</td>\n",
       "    </tr>\n",
       "    <tr>\n",
       "      <th>160</th>\n",
       "      <td>Jul 2006</td>\n",
       "      <td>Cryptine</td>\n",
       "      <td>information security services</td>\n",
       "      <td>the board couldn't break the deadlock</td>\n",
       "      <td>key lessons from Cryptine network's failure</td>\n",
       "      <td>@nunderwood</td>\n",
       "      <td>https://www.crunchbase.com/organization/crypti...</td>\n",
       "      <td>http://andrewbfife.blogspot.com/2006/07/key-le...</td>\n",
       "      <td>https://twitter.com/nunderwood</td>\n",
       "    </tr>\n",
       "    <tr>\n",
       "      <th>161</th>\n",
       "      <td>May 2000</td>\n",
       "      <td>Boo.com</td>\n",
       "      <td>High End Sportwear e-tailer</td>\n",
       "      <td>High ambitions, poor execution</td>\n",
       "      <td>Boo.com goes bust</td>\n",
       "      <td>NaN</td>\n",
       "      <td>https://www.crunchbase.com/organization/boo-co...</td>\n",
       "      <td>http://www.tnl.net/blog/2000/05/19/boocom-goes...</td>\n",
       "      <td>NaN</td>\n",
       "    </tr>\n",
       "  </tbody>\n",
       "</table>\n",
       "</div>"
      ],
      "text/plain": [
       "    Date_of_Failure    Startup                                Idea  \\\n",
       "157        Apr 2008    Nouncer              micro-blogging service   \n",
       "158        Jul 2007  Backfence  create hyper-local community sites   \n",
       "159        Jan 2007    Bitpass                Online micropayments   \n",
       "160        Jul 2006   Cryptine       information security services   \n",
       "161        May 2000    Boo.com         High End Sportwear e-tailer   \n",
       "\n",
       "                                    Reason_for_Failure  \\\n",
       "157   lacked the audience my product needed to succeed   \n",
       "158  internal problems made it impossible to reach ...   \n",
       "159  crappy business model, tried to do too much, l...   \n",
       "160              the board couldn't break the deadlock   \n",
       "161                     High ambitions, poor execution   \n",
       "\n",
       "                                            Full_Story      Founder  \\\n",
       "157                           The Last AnNounce(r)ment  @eranhammer   \n",
       "158  Co-Founder Potts Shares Lessons Learned from B...   @pottsmark   \n",
       "159  Bitpass Croaks: Is This the End of Micropayments?        @_nvs   \n",
       "160        key lessons from Cryptine network's failure  @nunderwood   \n",
       "161                                  Boo.com goes bust          NaN   \n",
       "\n",
       "                                          Startup_link  \\\n",
       "157    https://www.crunchbase.com/organization/nouncer   \n",
       "158  https://www.crunchbase.com/organization/backfence   \n",
       "159    https://www.crunchbase.com/organization/bitpass   \n",
       "160  https://www.crunchbase.com/organization/crypti...   \n",
       "161  https://www.crunchbase.com/organization/boo-co...   \n",
       "\n",
       "                                       Full_story_link  \\\n",
       "157  http://hueniverse.com/2008/04/25/the-last-anno...   \n",
       "158  http://www.pbs.org/mediashift/2007/07/co-found...   \n",
       "159  http://venturebeat.com/2007/01/19/bitpass-croa...   \n",
       "160  http://andrewbfife.blogspot.com/2006/07/key-le...   \n",
       "161  http://www.tnl.net/blog/2000/05/19/boocom-goes...   \n",
       "\n",
       "                       Founder_link  \n",
       "157  https://twitter.com/eranhammer  \n",
       "158   https://twitter.com/pottsmark  \n",
       "159         http://twitter.com/_nvs  \n",
       "160  https://twitter.com/nunderwood  \n",
       "161                             NaN  "
      ]
     },
     "execution_count": 9,
     "metadata": {},
     "output_type": "execute_result"
    }
   ],
   "source": [
    "# Autopsy dataset\n",
    "autopsy_df = pd.read_csv(\"datasets/autopsy_io/failed_companies_autopsyio_dataset.csv\")\n",
    "autopsy_df.tail(TAIL_NUMBER)"
   ]
  },
  {
   "cell_type": "code",
   "execution_count": 10,
   "metadata": {},
   "outputs": [
    {
     "name": "stdout",
     "output_type": "stream",
     "text": [
      "Number of records: 162\n",
      "Number of columns: 9\n"
     ]
    }
   ],
   "source": [
    "autopsy_df.drop_duplicates(inplace=True)\n",
    "print(\"Number of records: {}\".format(autopsy_df.shape[0]))\n",
    "print(\"Number of columns: {}\".format(autopsy_df.shape[1]))"
   ]
  },
  {
   "cell_type": "markdown",
   "metadata": {},
   "source": [
    "## Crunchbase dataset"
   ]
  },
  {
   "cell_type": "code",
   "execution_count": 11,
   "metadata": {},
   "outputs": [
    {
     "data": {
      "text/html": [
       "<div>\n",
       "<style scoped>\n",
       "    .dataframe tbody tr th:only-of-type {\n",
       "        vertical-align: middle;\n",
       "    }\n",
       "\n",
       "    .dataframe tbody tr th {\n",
       "        vertical-align: top;\n",
       "    }\n",
       "\n",
       "    .dataframe thead th {\n",
       "        text-align: right;\n",
       "    }\n",
       "</style>\n",
       "<table border=\"1\" class=\"dataframe\">\n",
       "  <thead>\n",
       "    <tr style=\"text-align: right;\">\n",
       "      <th></th>\n",
       "      <th>Organization Name</th>\n",
       "      <th>Organization Name URL</th>\n",
       "      <th>Categories</th>\n",
       "      <th>Headquarters Location</th>\n",
       "      <th>Description</th>\n",
       "      <th>CB Rank (Company)</th>\n",
       "      <th>Operating Status</th>\n",
       "      <th>Founded Date</th>\n",
       "      <th>Founded Date Precision</th>\n",
       "    </tr>\n",
       "  </thead>\n",
       "  <tbody>\n",
       "    <tr>\n",
       "      <th>995</th>\n",
       "      <td>Get (form. Qnect)</td>\n",
       "      <td>https://www.crunchbase.com/organization/qnect-...</td>\n",
       "      <td>E-Commerce, Events, Marketplace, Payments, Social</td>\n",
       "      <td>Singapore, Central Region, Singapore</td>\n",
       "      <td>Discover &amp; share the world's purchases.</td>\n",
       "      <td>996</td>\n",
       "      <td>Active</td>\n",
       "      <td>2016-01-01</td>\n",
       "      <td>day</td>\n",
       "    </tr>\n",
       "    <tr>\n",
       "      <th>996</th>\n",
       "      <td>Machine Zone</td>\n",
       "      <td>https://www.crunchbase.com/organization/machin...</td>\n",
       "      <td>Casual Games, Cloud Infrastructure, MMO Games,...</td>\n",
       "      <td>Palo Alto, California, United States</td>\n",
       "      <td>Machine Zone develops applications and games f...</td>\n",
       "      <td>997</td>\n",
       "      <td>Active</td>\n",
       "      <td>2008-01-01</td>\n",
       "      <td>year</td>\n",
       "    </tr>\n",
       "    <tr>\n",
       "      <th>997</th>\n",
       "      <td>Apttus</td>\n",
       "      <td>https://www.crunchbase.com/organization/apttus</td>\n",
       "      <td>CRM, Enterprise Software, Finance, SaaS</td>\n",
       "      <td>San Mateo, California, United States</td>\n",
       "      <td>Apttus, a SaaS application provider, renders e...</td>\n",
       "      <td>998</td>\n",
       "      <td>Active</td>\n",
       "      <td>2006-01-01</td>\n",
       "      <td>year</td>\n",
       "    </tr>\n",
       "    <tr>\n",
       "      <th>998</th>\n",
       "      <td>Cornershop</td>\n",
       "      <td>https://www.crunchbase.com/organization/corner...</td>\n",
       "      <td>E-Commerce, Internet, Mobile</td>\n",
       "      <td>San Francisco, California, United States</td>\n",
       "      <td>Cornershop is an on-demand grocery delivery se...</td>\n",
       "      <td>999</td>\n",
       "      <td>Active</td>\n",
       "      <td>2015-03-10</td>\n",
       "      <td>day</td>\n",
       "    </tr>\n",
       "    <tr>\n",
       "      <th>999</th>\n",
       "      <td>Canva</td>\n",
       "      <td>https://www.crunchbase.com/organization/canva</td>\n",
       "      <td>Graphic Design, Photo Editing, Publishing, Sof...</td>\n",
       "      <td>Sydney, New South Wales, Australia</td>\n",
       "      <td>Canva facilitates graphic design by providing ...</td>\n",
       "      <td>1,000</td>\n",
       "      <td>Active</td>\n",
       "      <td>2012-01-01</td>\n",
       "      <td>year</td>\n",
       "    </tr>\n",
       "  </tbody>\n",
       "</table>\n",
       "</div>"
      ],
      "text/plain": [
       "     Organization Name                              Organization Name URL  \\\n",
       "995  Get (form. Qnect)  https://www.crunchbase.com/organization/qnect-...   \n",
       "996       Machine Zone  https://www.crunchbase.com/organization/machin...   \n",
       "997             Apttus     https://www.crunchbase.com/organization/apttus   \n",
       "998         Cornershop  https://www.crunchbase.com/organization/corner...   \n",
       "999              Canva      https://www.crunchbase.com/organization/canva   \n",
       "\n",
       "                                            Categories  \\\n",
       "995  E-Commerce, Events, Marketplace, Payments, Social   \n",
       "996  Casual Games, Cloud Infrastructure, MMO Games,...   \n",
       "997            CRM, Enterprise Software, Finance, SaaS   \n",
       "998                       E-Commerce, Internet, Mobile   \n",
       "999  Graphic Design, Photo Editing, Publishing, Sof...   \n",
       "\n",
       "                        Headquarters Location  \\\n",
       "995      Singapore, Central Region, Singapore   \n",
       "996      Palo Alto, California, United States   \n",
       "997      San Mateo, California, United States   \n",
       "998  San Francisco, California, United States   \n",
       "999        Sydney, New South Wales, Australia   \n",
       "\n",
       "                                           Description CB Rank (Company)  \\\n",
       "995            Discover & share the world's purchases.               996   \n",
       "996  Machine Zone develops applications and games f...               997   \n",
       "997  Apttus, a SaaS application provider, renders e...               998   \n",
       "998  Cornershop is an on-demand grocery delivery se...               999   \n",
       "999  Canva facilitates graphic design by providing ...             1,000   \n",
       "\n",
       "    Operating Status Founded Date Founded Date Precision  \n",
       "995           Active   2016-01-01                    day  \n",
       "996           Active   2008-01-01                   year  \n",
       "997           Active   2006-01-01                   year  \n",
       "998           Active   2015-03-10                    day  \n",
       "999           Active   2012-01-01                   year  "
      ]
     },
     "execution_count": 11,
     "metadata": {},
     "output_type": "execute_result"
    }
   ],
   "source": [
    "subcrunb_df = pd.read_csv(\"datasets/crunchbase-subscription-data/companies-11-2-2018_more_columns.csv\")\n",
    "subcrunb_df.tail(TAIL_NUMBER)"
   ]
  },
  {
   "cell_type": "code",
   "execution_count": 12,
   "metadata": {},
   "outputs": [
    {
     "name": "stdout",
     "output_type": "stream",
     "text": [
      "Number of records: 1000\n",
      "Number of columns: 9\n"
     ]
    }
   ],
   "source": [
    "print(\"Number of records: {}\".format(subcrunb_df.shape[0]))\n",
    "print(\"Number of columns: {}\".format(subcrunb_df.shape[1]))"
   ]
  },
  {
   "cell_type": "code",
   "execution_count": 13,
   "metadata": {},
   "outputs": [
    {
     "data": {
      "text/html": [
       "<div>\n",
       "<style scoped>\n",
       "    .dataframe tbody tr th:only-of-type {\n",
       "        vertical-align: middle;\n",
       "    }\n",
       "\n",
       "    .dataframe tbody tr th {\n",
       "        vertical-align: top;\n",
       "    }\n",
       "\n",
       "    .dataframe thead th {\n",
       "        text-align: right;\n",
       "    }\n",
       "</style>\n",
       "<table border=\"1\" class=\"dataframe\">\n",
       "  <thead>\n",
       "    <tr style=\"text-align: right;\">\n",
       "      <th></th>\n",
       "      <th>permalink</th>\n",
       "      <th>name</th>\n",
       "      <th>homepage_url</th>\n",
       "      <th>category_list</th>\n",
       "      <th>funding_total_usd</th>\n",
       "      <th>status</th>\n",
       "      <th>country_code</th>\n",
       "      <th>state_code</th>\n",
       "      <th>region</th>\n",
       "      <th>city</th>\n",
       "      <th>funding_rounds</th>\n",
       "      <th>founded_at</th>\n",
       "      <th>first_funding_at</th>\n",
       "      <th>last_funding_at</th>\n",
       "    </tr>\n",
       "  </thead>\n",
       "  <tbody>\n",
       "    <tr>\n",
       "      <th>66363</th>\n",
       "      <td>/organization/zznode-science-and-technology-co...</td>\n",
       "      <td>ZZNode Science and Technology</td>\n",
       "      <td>http://www.zznode.com</td>\n",
       "      <td>Enterprise Software</td>\n",
       "      <td>1587301</td>\n",
       "      <td>operating</td>\n",
       "      <td>CHN</td>\n",
       "      <td>22</td>\n",
       "      <td>Beijing</td>\n",
       "      <td>Beijing</td>\n",
       "      <td>1</td>\n",
       "      <td>NaN</td>\n",
       "      <td>2012-04-01</td>\n",
       "      <td>2012-04-01</td>\n",
       "    </tr>\n",
       "    <tr>\n",
       "      <th>66364</th>\n",
       "      <td>/organization/zzzzapp-com</td>\n",
       "      <td>Zzzzapp Wireless ltd.</td>\n",
       "      <td>http://www.zzzzapp.com</td>\n",
       "      <td>Advertising|Mobile|Web Development|Wireless</td>\n",
       "      <td>114304</td>\n",
       "      <td>operating</td>\n",
       "      <td>HRV</td>\n",
       "      <td>15</td>\n",
       "      <td>Split</td>\n",
       "      <td>Split</td>\n",
       "      <td>4</td>\n",
       "      <td>2012-05-13</td>\n",
       "      <td>2011-11-01</td>\n",
       "      <td>2014-03-01</td>\n",
       "    </tr>\n",
       "    <tr>\n",
       "      <th>66365</th>\n",
       "      <td>/organization/Áeron</td>\n",
       "      <td>ÁERON</td>\n",
       "      <td>http://www.aeron.hu/</td>\n",
       "      <td>NaN</td>\n",
       "      <td>-</td>\n",
       "      <td>operating</td>\n",
       "      <td>NaN</td>\n",
       "      <td>NaN</td>\n",
       "      <td>NaN</td>\n",
       "      <td>NaN</td>\n",
       "      <td>1</td>\n",
       "      <td>2011-01-01</td>\n",
       "      <td>2014-08-01</td>\n",
       "      <td>2014-08-01</td>\n",
       "    </tr>\n",
       "    <tr>\n",
       "      <th>66366</th>\n",
       "      <td>/organization/Ôasys-2</td>\n",
       "      <td>Ôasys</td>\n",
       "      <td>http://www.oasys.io/</td>\n",
       "      <td>Consumer Electronics|Internet of Things|Teleco...</td>\n",
       "      <td>18192</td>\n",
       "      <td>operating</td>\n",
       "      <td>USA</td>\n",
       "      <td>CA</td>\n",
       "      <td>SF Bay Area</td>\n",
       "      <td>San Francisco</td>\n",
       "      <td>1</td>\n",
       "      <td>2014-01-01</td>\n",
       "      <td>2015-01-01</td>\n",
       "      <td>2015-01-01</td>\n",
       "    </tr>\n",
       "    <tr>\n",
       "      <th>66367</th>\n",
       "      <td>/organization/İnovatiff-reklam-ve-tanıtım-hizm...</td>\n",
       "      <td>İnovatiff Reklam ve Tanıtım Hizmetleri Tic</td>\n",
       "      <td>http://inovatiff.com</td>\n",
       "      <td>Consumer Goods|E-Commerce|Internet</td>\n",
       "      <td>14851</td>\n",
       "      <td>operating</td>\n",
       "      <td>NaN</td>\n",
       "      <td>NaN</td>\n",
       "      <td>NaN</td>\n",
       "      <td>NaN</td>\n",
       "      <td>1</td>\n",
       "      <td>NaN</td>\n",
       "      <td>2013-10-01</td>\n",
       "      <td>2013-10-01</td>\n",
       "    </tr>\n",
       "  </tbody>\n",
       "</table>\n",
       "</div>"
      ],
      "text/plain": [
       "                                               permalink  \\\n",
       "66363  /organization/zznode-science-and-technology-co...   \n",
       "66364                          /organization/zzzzapp-com   \n",
       "66365                                /organization/Áeron   \n",
       "66366                              /organization/Ôasys-2   \n",
       "66367  /organization/İnovatiff-reklam-ve-tanıtım-hizm...   \n",
       "\n",
       "                                             name            homepage_url  \\\n",
       "66363               ZZNode Science and Technology   http://www.zznode.com   \n",
       "66364                       Zzzzapp Wireless ltd.  http://www.zzzzapp.com   \n",
       "66365                                       ÁERON    http://www.aeron.hu/   \n",
       "66366                                       Ôasys    http://www.oasys.io/   \n",
       "66367  İnovatiff Reklam ve Tanıtım Hizmetleri Tic    http://inovatiff.com   \n",
       "\n",
       "                                           category_list funding_total_usd  \\\n",
       "66363                                Enterprise Software           1587301   \n",
       "66364        Advertising|Mobile|Web Development|Wireless            114304   \n",
       "66365                                                NaN                 -   \n",
       "66366  Consumer Electronics|Internet of Things|Teleco...             18192   \n",
       "66367                 Consumer Goods|E-Commerce|Internet             14851   \n",
       "\n",
       "          status country_code state_code       region           city  \\\n",
       "66363  operating          CHN         22      Beijing        Beijing   \n",
       "66364  operating          HRV         15        Split          Split   \n",
       "66365  operating          NaN        NaN          NaN            NaN   \n",
       "66366  operating          USA         CA  SF Bay Area  San Francisco   \n",
       "66367  operating          NaN        NaN          NaN            NaN   \n",
       "\n",
       "       funding_rounds  founded_at first_funding_at last_funding_at  \n",
       "66363               1         NaN       2012-04-01      2012-04-01  \n",
       "66364               4  2012-05-13       2011-11-01      2014-03-01  \n",
       "66365               1  2011-01-01       2014-08-01      2014-08-01  \n",
       "66366               1  2014-01-01       2015-01-01      2015-01-01  \n",
       "66367               1         NaN       2013-10-01      2013-10-01  "
      ]
     },
     "execution_count": 13,
     "metadata": {},
     "output_type": "execute_result"
    }
   ],
   "source": [
    "crunb_df = pd.read_csv(\"datasets/crunchbase-data/companies.csv\")\n",
    "crunb_df.tail(TAIL_NUMBER)"
   ]
  },
  {
   "cell_type": "code",
   "execution_count": 14,
   "metadata": {},
   "outputs": [
    {
     "name": "stdout",
     "output_type": "stream",
     "text": [
      "Number of records: 66368\n",
      "Number of columns: 14\n"
     ]
    }
   ],
   "source": [
    "print(\"Number of records: {}\".format(crunb_df.shape[0]))\n",
    "print(\"Number of columns: {}\".format(crunb_df.shape[1]))"
   ]
  },
  {
   "cell_type": "markdown",
   "metadata": {},
   "source": [
    "# Analyze the Angel List Datasets"
   ]
  },
  {
   "cell_type": "code",
   "execution_count": 164,
   "metadata": {},
   "outputs": [],
   "source": [
    "# Define helper functions for printing datasets columns\n",
    "def get_cols(df):\n",
    "    for col in df.columns:\n",
    "        print(\"* {}\".format(col))\n",
    "        \n",
    "        \n",
    "# Define a helper function to convert String of numbers to numerical values\n",
    "# from dollars strings\n",
    "def convert_to_int(x):\n",
    "    if type(x) == str:\n",
    "        try:\n",
    "            return float(x.replace(\"$\", \"\").replace(\",\", \"\"))\n",
    "        except:\n",
    "            return 0\n",
    "    elif type(x) == float:\n",
    "        return x\n",
    "\n",
    "    \n",
    "# Define a function that returns dollar values of big integers\n",
    "def get_dollar_values(x):\n",
    "    return \"${:,.2f}\".format(x) \n",
    "\n",
    "\n",
    "\n",
    "# Get Statisctial Descriptions\n",
    "# Mean, Median, Standard Deviation, min, max, sum\n",
    "def get_statistical_description(df, col):\n",
    "    column_name = col.replace(\"_\", \" \").title() \n",
    "    \n",
    "    mean = get_dollar_values(np.mean(df[col]))\n",
    "    print(\"{} mean: {}\".format(column_name, mean))\n",
    "\n",
    "    median = get_dollar_values(np.median(df[col]))\n",
    "    print(\"{} median: {}\".format(column_name, median))\n",
    "\n",
    "    std = get_dollar_values(np.std(df[col]))\n",
    "    print(\"{} standard deviation: {}\".format(column_name, std))\n",
    "\n",
    "    min_value = get_dollar_values(np.min(df[col]))\n",
    "    print(\"{} minimum amount: {}\".format(column_name, min_value))\n",
    "\n",
    "\n",
    "    max_value = get_dollar_values(np.max(df[col]))\n",
    "    print(\"{} maximum amount: {}\".format(column_name, max_value))\n",
    "\n",
    "    sum_value = get_dollar_values(np.sum(angelco_df[col]))\n",
    "    print(\"{} sum: {}\".format(column_name, sum_value))\n",
    "\n",
    "\n",
    "    \n",
    "# Helper function to plot relationships of data   \n",
    "def plot_data(\n",
    "    df=None, \n",
    "    x_col=None, \n",
    "    y_col=None, \n",
    "    xlabel=\"\", \n",
    "    ylabel=\"\", \n",
    "    title=\"\", \n",
    "    plot_type = \"bar\", \n",
    "    figsize=(18,10), \n",
    "    dollars=False, \n",
    "    is_df = True,\n",
    "    grid = True,\n",
    "    x_axis_rotation = 0 \n",
    "):\n",
    "    fig, ax = plt.subplots(figsize=figsize) \n",
    "    \n",
    "    #Plot type \n",
    "    if plot_type == \"bar\":\n",
    "        if not is_df:\n",
    "            ax.bar(x_col, y_col)\n",
    "        \n",
    "        if is_df:\n",
    "            ax.bar(df[x_col], df[y_col])\n",
    "    \n",
    "    \n",
    "    if plot_type == \"scatter\":\n",
    "        if not is_df:\n",
    "            ax.scatter(x_col, y_col)\n",
    "        \n",
    "        if is_df:\n",
    "            ax.scatter(df[x_col], df[y_col])\n",
    "            \n",
    "    if plot_type == \"line\":\n",
    "        if not is_df:\n",
    "            ax.plot(x_col, y_col)\n",
    "        \n",
    "        if is_df:\n",
    "            ax.plot(df[x_col], df[y_col])\n",
    "    \n",
    "    if dollars:\n",
    "        fmt = '${x:,.0f}'\n",
    "        tick = ticker.StrMethodFormatter(fmt)\n",
    "        ax.yaxis.set_major_formatter(tick) \n",
    "    \n",
    "    plt.grid(grid)\n",
    "    plt.xticks(rotation=x_axis_rotation)\n",
    "    plt.ylabel(ylabel)\n",
    "    plt.xlabel(xlabel)\n",
    "    plt.title(title)\n",
    "\n",
    "    \n",
    "# Remove all Non values from column of numbers    \n",
    "def remove_non_values(x):\n",
    "    if str(x) == \"-\" or str(x) == \"nan\":\n",
    "        return False\n",
    "    else:\n",
    "        return True\n",
    "\n",
    "\n",
    "        \n",
    "# plotting correlations from dataframe\n",
    "def plot_corr(df,size=10):\n",
    "    '''Function plots a graphical correlation matrix for each pair of columns in the dataframe.\n",
    "\n",
    "    Input:\n",
    "        df: pandas DataFrame\n",
    "        size: vertical and horizontal size of the plot'''\n",
    "\n",
    "    corr = df.corr()\n",
    "    fig, ax = plt.subplots(figsize=(size, size))\n",
    "    ax.matshow(corr)\n",
    "    plt.xticks(range(len(corr.columns)), corr.columns)\n",
    "    plt.yticks(range(len(corr.columns)), corr.columns)"
   ]
  },
  {
   "cell_type": "code",
   "execution_count": 16,
   "metadata": {},
   "outputs": [
    {
     "name": "stdout",
     "output_type": "stream",
     "text": [
      "* Company\n",
      "* Link\n",
      "* Pitch\n",
      "* Joined\n",
      "* Location\n",
      "* Market\n",
      "* Website\n",
      "* Employees\n",
      "* Stage\n",
      "* Total_raised\n"
     ]
    }
   ],
   "source": [
    "# List all columns of the dataset collected from angel List with the data collector script\n",
    "get_cols(angelco_df)"
   ]
  },
  {
   "cell_type": "code",
   "execution_count": 17,
   "metadata": {},
   "outputs": [
    {
     "data": {
      "text/html": [
       "<div>\n",
       "<style scoped>\n",
       "    .dataframe tbody tr th:only-of-type {\n",
       "        vertical-align: middle;\n",
       "    }\n",
       "\n",
       "    .dataframe tbody tr th {\n",
       "        vertical-align: top;\n",
       "    }\n",
       "\n",
       "    .dataframe thead th {\n",
       "        text-align: right;\n",
       "    }\n",
       "</style>\n",
       "<table border=\"1\" class=\"dataframe\">\n",
       "  <thead>\n",
       "    <tr style=\"text-align: right;\">\n",
       "      <th></th>\n",
       "      <th>Company</th>\n",
       "      <th>Link</th>\n",
       "      <th>Pitch</th>\n",
       "      <th>Joined</th>\n",
       "      <th>Location</th>\n",
       "      <th>Market</th>\n",
       "      <th>Website</th>\n",
       "      <th>Employees</th>\n",
       "      <th>Stage</th>\n",
       "      <th>Total_raised</th>\n",
       "    </tr>\n",
       "  </thead>\n",
       "  <tbody>\n",
       "    <tr>\n",
       "      <th>count</th>\n",
       "      <td>379</td>\n",
       "      <td>379</td>\n",
       "      <td>271</td>\n",
       "      <td>379</td>\n",
       "      <td>379</td>\n",
       "      <td>379</td>\n",
       "      <td>371</td>\n",
       "      <td>353</td>\n",
       "      <td>343</td>\n",
       "      <td>379</td>\n",
       "    </tr>\n",
       "    <tr>\n",
       "      <th>unique</th>\n",
       "      <td>379</td>\n",
       "      <td>379</td>\n",
       "      <td>271</td>\n",
       "      <td>69</td>\n",
       "      <td>73</td>\n",
       "      <td>185</td>\n",
       "      <td>362</td>\n",
       "      <td>7</td>\n",
       "      <td>9</td>\n",
       "      <td>193</td>\n",
       "    </tr>\n",
       "    <tr>\n",
       "      <th>top</th>\n",
       "      <td>Fancy</td>\n",
       "      <td>https://angel.co/appy-couple</td>\n",
       "      <td>Copy keys. Solve lockouts.</td>\n",
       "      <td>Feb ’12</td>\n",
       "      <td>San Francisco</td>\n",
       "      <td>-</td>\n",
       "      <td>-</td>\n",
       "      <td>1-10</td>\n",
       "      <td>-</td>\n",
       "      <td>-</td>\n",
       "    </tr>\n",
       "    <tr>\n",
       "      <th>freq</th>\n",
       "      <td>1</td>\n",
       "      <td>1</td>\n",
       "      <td>1</td>\n",
       "      <td>36</td>\n",
       "      <td>129</td>\n",
       "      <td>69</td>\n",
       "      <td>5</td>\n",
       "      <td>116</td>\n",
       "      <td>132</td>\n",
       "      <td>131</td>\n",
       "    </tr>\n",
       "  </tbody>\n",
       "</table>\n",
       "</div>"
      ],
      "text/plain": [
       "       Company                          Link                       Pitch  \\\n",
       "count      379                           379                         271   \n",
       "unique     379                           379                         271   \n",
       "top      Fancy  https://angel.co/appy-couple  Copy keys. Solve lockouts.   \n",
       "freq         1                             1                           1   \n",
       "\n",
       "         Joined       Location Market Website Employees Stage Total_raised  \n",
       "count       379            379    379     371       353   343          379  \n",
       "unique       69             73    185     362         7     9          193  \n",
       "top     Feb ’12  San Francisco      -       -      1-10     -            -  \n",
       "freq         36            129     69       5       116   132          131  "
      ]
     },
     "execution_count": 17,
     "metadata": {},
     "output_type": "execute_result"
    }
   ],
   "source": [
    "angelco_df.describe()"
   ]
  },
  {
   "cell_type": "code",
   "execution_count": 18,
   "metadata": {},
   "outputs": [
    {
     "data": {
      "text/plain": [
       "374     1-10\n",
       "375    11-50\n",
       "376     1-10\n",
       "377    11-50\n",
       "378     1-10\n",
       "Name: Employees, dtype: object"
      ]
     },
     "execution_count": 18,
     "metadata": {},
     "output_type": "execute_result"
    }
   ],
   "source": [
    "# The employees is a range of number rather just one number\n",
    "angelco_df['Employees'].tail(TAIL_NUMBER)"
   ]
  },
  {
   "cell_type": "code",
   "execution_count": 19,
   "metadata": {},
   "outputs": [
    {
     "data": {
      "text/plain": [
       "374    Series A\n",
       "375    Acquired\n",
       "376        Seed\n",
       "377         NaN\n",
       "378    Acquired\n",
       "Name: Stage, dtype: object"
      ]
     },
     "execution_count": 19,
     "metadata": {},
     "output_type": "execute_result"
    }
   ],
   "source": [
    "# Stage of investment or whether ethe company was aqcuired\n",
    "angelco_df[\"Stage\"].tail(TAIL_NUMBER)"
   ]
  },
  {
   "cell_type": "code",
   "execution_count": 20,
   "metadata": {},
   "outputs": [
    {
     "data": {
      "text/plain": [
       "374    $15,000,000\n",
       "375     $1,000,000\n",
       "376              -\n",
       "377    $24,886,349\n",
       "378              -\n",
       "Name: Total_raised, dtype: object"
      ]
     },
     "execution_count": 20,
     "metadata": {},
     "output_type": "execute_result"
    }
   ],
   "source": [
    "# Total raised is the only numerical value in this dataset so far\n",
    "angelco_df['Total_raised'].tail(TAIL_NUMBER)"
   ]
  },
  {
   "cell_type": "markdown",
   "metadata": {},
   "source": [
    "<p>A lot of these values need to be converted to numerical values</p>"
   ]
  },
  {
   "cell_type": "code",
   "execution_count": 21,
   "metadata": {},
   "outputs": [],
   "source": [
    "# Convert Total_raised to integers\n",
    "angelco_df[\"Total_raised\"] = angelco_df[\"Total_raised\"].apply(convert_to_int)"
   ]
  },
  {
   "cell_type": "code",
   "execution_count": 22,
   "metadata": {},
   "outputs": [
    {
     "name": "stdout",
     "output_type": "stream",
     "text": [
      "Total Raised mean: $29,535,159.91\n",
      "Total Raised median: $2,500,000.00\n",
      "Total Raised standard deviation: $102,363,008.96\n",
      "Total Raised minimum amount: $0.00\n",
      "Total Raised maximum amount: $1,038,900,000.00\n",
      "Total Raised sum: $11,193,825,607.00\n"
     ]
    }
   ],
   "source": [
    "#Get Statistical descriptons Total Raised, mean, median etc \n",
    "get_statistical_description(angelco_df, \"Total_raised\")"
   ]
  },
  {
   "cell_type": "markdown",
   "metadata": {},
   "source": [
    "<p>It can be seen that the mean which is 2.5 million dollars and the mean is 29.5 millions which suggest that there might be outliers among the investments</p>"
   ]
  },
  {
   "cell_type": "markdown",
   "metadata": {},
   "source": [
    "<p>Both data show that that NaN fields exit as well as a \"-\" that should be eliminated.</p>"
   ]
  },
  {
   "cell_type": "code",
   "execution_count": 23,
   "metadata": {},
   "outputs": [
    {
     "data": {
      "text/plain": [
       "364      11-50\n",
       "365     51-200\n",
       "366       1-10\n",
       "367    201-500\n",
       "368      11-50\n",
       "369       1-10\n",
       "370    201-500\n",
       "371      11-50\n",
       "372          -\n",
       "373          -\n",
       "374       1-10\n",
       "375      11-50\n",
       "376       1-10\n",
       "377      11-50\n",
       "378       1-10\n",
       "Name: Employees, dtype: object"
      ]
     },
     "execution_count": 23,
     "metadata": {},
     "output_type": "execute_result"
    }
   ],
   "source": [
    "angelco_df[\"Employees\"].tail(TAIL_NUMBER+10)"
   ]
  },
  {
   "cell_type": "code",
   "execution_count": 24,
   "metadata": {},
   "outputs": [
    {
     "data": {
      "text/plain": [
       "364    Acquired\n",
       "365    Acquired\n",
       "366           -\n",
       "367    Acquired\n",
       "368         NaN\n",
       "369           -\n",
       "370         NaN\n",
       "371           -\n",
       "372           -\n",
       "373        Seed\n",
       "374    Series A\n",
       "375    Acquired\n",
       "376        Seed\n",
       "377         NaN\n",
       "378    Acquired\n",
       "Name: Stage, dtype: object"
      ]
     },
     "execution_count": 24,
     "metadata": {},
     "output_type": "execute_result"
    }
   ],
   "source": [
    "angelco_df[\"Stage\"].tail(TAIL_NUMBER+10)"
   ]
  },
  {
   "cell_type": "code",
   "execution_count": 25,
   "metadata": {
    "scrolled": false
   },
   "outputs": [
    {
     "name": "stdout",
     "output_type": "stream",
     "text": [
      "Maximum investment for companies with 1-10 employees: $1,038,900,000.00\n"
     ]
    }
   ],
   "source": [
    "max_1_10_total_raised = angelco_df.loc[angelco_df['Employees'] == \"1-10\"][\"Total_raised\"].max()\n",
    "print(\"Maximum investment for companies with 1-10 employees: {}\".format(get_dollar_values(max_1_10_total_raised)))"
   ]
  },
  {
   "cell_type": "code",
   "execution_count": 26,
   "metadata": {},
   "outputs": [
    {
     "name": "stdout",
     "output_type": "stream",
     "text": [
      "Number of companies with more than a billion in investment: 2\n"
     ]
    }
   ],
   "source": [
    "# Get all companies with more than a billion dollars in investment\n",
    "companies_billion_dollars = angelco_df.loc[angelco_df[\"Total_raised\"] >= 1000000000]\n",
    "print(\"Number of companies with more than a billion in investment: {}\".format(companies_billion_dollars.shape[0]))"
   ]
  },
  {
   "cell_type": "code",
   "execution_count": 27,
   "metadata": {},
   "outputs": [
    {
     "data": {
      "text/html": [
       "<div>\n",
       "<style scoped>\n",
       "    .dataframe tbody tr th:only-of-type {\n",
       "        vertical-align: middle;\n",
       "    }\n",
       "\n",
       "    .dataframe tbody tr th {\n",
       "        vertical-align: top;\n",
       "    }\n",
       "\n",
       "    .dataframe thead th {\n",
       "        text-align: right;\n",
       "    }\n",
       "</style>\n",
       "<table border=\"1\" class=\"dataframe\">\n",
       "  <thead>\n",
       "    <tr style=\"text-align: right;\">\n",
       "      <th></th>\n",
       "      <th>Company</th>\n",
       "      <th>Link</th>\n",
       "      <th>Pitch</th>\n",
       "      <th>Joined</th>\n",
       "      <th>Location</th>\n",
       "      <th>Market</th>\n",
       "      <th>Website</th>\n",
       "      <th>Employees</th>\n",
       "      <th>Stage</th>\n",
       "      <th>Total_raised</th>\n",
       "    </tr>\n",
       "  </thead>\n",
       "  <tbody>\n",
       "    <tr>\n",
       "      <th>299</th>\n",
       "      <td>AOL</td>\n",
       "      <td>https://angel.co/aol</td>\n",
       "      <td>NaN</td>\n",
       "      <td>Feb ’12</td>\n",
       "      <td>New York City</td>\n",
       "      <td>Advertising Platforms</td>\n",
       "      <td>aol.com</td>\n",
       "      <td>-</td>\n",
       "      <td>NaN</td>\n",
       "      <td>1.000000e+09</td>\n",
       "    </tr>\n",
       "    <tr>\n",
       "      <th>326</th>\n",
       "      <td>The Climate Corporation</td>\n",
       "      <td>https://angel.co/the-climate</td>\n",
       "      <td>NaN</td>\n",
       "      <td>Jul ’12</td>\n",
       "      <td>San Francisco</td>\n",
       "      <td>Risk Management</td>\n",
       "      <td>climate.com</td>\n",
       "      <td>1-10</td>\n",
       "      <td>Acquired</td>\n",
       "      <td>1.038900e+09</td>\n",
       "    </tr>\n",
       "  </tbody>\n",
       "</table>\n",
       "</div>"
      ],
      "text/plain": [
       "                     Company                          Link Pitch   Joined  \\\n",
       "299                      AOL          https://angel.co/aol   NaN  Feb ’12   \n",
       "326  The Climate Corporation  https://angel.co/the-climate   NaN  Jul ’12   \n",
       "\n",
       "          Location                 Market      Website Employees     Stage  \\\n",
       "299  New York City  Advertising Platforms      aol.com         -       NaN   \n",
       "326  San Francisco        Risk Management  climate.com      1-10  Acquired   \n",
       "\n",
       "     Total_raised  \n",
       "299  1.000000e+09  \n",
       "326  1.038900e+09  "
      ]
     },
     "execution_count": 27,
     "metadata": {},
     "output_type": "execute_result"
    }
   ],
   "source": [
    "companies_billion_dollars"
   ]
  },
  {
   "cell_type": "code",
   "execution_count": 28,
   "metadata": {
    "scrolled": false
   },
   "outputs": [],
   "source": [
    "# Get rid of companies that have more than a billion dollars in investments\n",
    "angelco_df_no_outliers = angelco_df\n",
    "company_1_10_with_billion = (angelco_df_no_outliers['Employees'] == \"1-10\" ) & (angelco_df_no_outliers[\"Total_raised\"] >= 1000000000)\n",
    "angelco_df_no_outliers = angelco_df_no_outliers.loc[~company_1_10_with_billion]\n",
    "angelco_df_no_outliers = angelco_df_no_outliers.loc[angelco_df_no_outliers['Employees'].apply(remove_non_values)]\n",
    "# How many companies have invesments over 400 millions?\n",
    "angelco_df_no_outliers = angelco_df_no_outliers.loc[~(angelco_df_no_outliers[\"Total_raised\"] > 400000000)]\n",
    "angelco_df_no_outliers.sort_values(by=['Total_raised'], inplace=True)\n",
    "angelco_df_no_outliers = angelco_df_no_outliers.loc[angelco_df_no_outliers[\"Total_raised\"] > 0]\n",
    "angelco_df_no_outliers = angelco_df_no_outliers.loc[angelco_df_no_outliers[\"Stage\"].apply(remove_non_values)]"
   ]
  },
  {
   "cell_type": "code",
   "execution_count": 168,
   "metadata": {},
   "outputs": [
    {
     "name": "stdout",
     "output_type": "stream",
     "text": [
      "This is the dataset that is left after removing - and nan values from Stage and Total_raised and after removing the Stage - and nan values\n",
      "Total Raised mean: $23,209,891.84\n",
      "Total Raised median: $7,450,000.00\n",
      "Total Raised standard deviation: $33,625,595.61\n",
      "Total Raised minimum amount: $20,000.00\n",
      "Total Raised maximum amount: $160,000,000.00\n",
      "Total Raised sum: $11,193,825,607.00\n"
     ]
    },
    {
     "data": {
      "image/png": "[encoded data removed]",
      "text/plain": [
       "<matplotlib.figure.Figure at 0x7ffb8ab709e8>"
      ]
     },
     "metadata": {},
     "output_type": "display_data"
    }
   ],
   "source": [
    "print(\"This is the dataset that is left after removing - and nan values from Stage and Total_raised and after removing the Stage - and nan values\")\n",
    "get_statistical_description(angelco_df_no_outliers, \"Total_raised\")\n",
    "\n",
    "\n",
    "plot_data(\n",
    "    angelco_df_no_outliers, \n",
    "    \"Employees\", \n",
    "    \"Total_raised\", \n",
    "    xlabel = \"Ranges of number of Employees\", \n",
    "    ylabel = \"Invesment Amount\",\n",
    "    title = \"Investments by number of employees\",\n",
    "    dollars = True\n",
    ")\n",
    "\n"
   ]
  },
  {
   "cell_type": "code",
   "execution_count": 196,
   "metadata": {
    "scrolled": false
   },
   "outputs": [
    {
     "name": "stdout",
     "output_type": "stream",
     "text": [
      "Series E has a sum amount of investments of $218,420,000.00 on average\n"
     ]
    },
    {
     "data": {
      "image/png": "[encoded data removed]",
      "text/plain": [
       "<matplotlib.figure.Figure at 0x7ffb95780128>"
      ]
     },
     "metadata": {},
     "output_type": "display_data"
    }
   ],
   "source": [
    "\n",
    "# remove nan and - values from stage\n",
    "\n",
    "stage = \"Series E\"\n",
    "max_value = pd.DataFrame(angelco_df_no_outliers.groupby(\"Stage\")['Total_raised'].sum()).loc[stage][\"Total_raised\"]\n",
    "max_value = get_dollar_values(max_value)\n",
    "print(\"{} has a sum amount of investments of {} on average\".format(stage, max_value))\n",
    "\n",
    "plot_data(\n",
    "    x_col = pd.DataFrame(angelco_df_no_outliers.groupby('Stage')['Total_raised'].mean()).index, \n",
    "    y_col = angelco_df_no_outliers.groupby('Stage')['Total_raised'].mean(), \n",
    "    xlabel = \"Stages\", \n",
    "    ylabel = \"Investment average amount\",\n",
    "    title = \"Investments average amount by Company Stage\",\n",
    "    dollars = True,\n",
    "    is_df = False,\n",
    "    plot_type = \"bar\"\n",
    ")"
   ]
  },
  {
   "cell_type": "markdown",
   "metadata": {},
   "source": [
    "<p>Data needs to be completed in order to get a more accurate visualization of the data.</p>"
   ]
  },
  {
   "cell_type": "code",
   "execution_count": 87,
   "metadata": {},
   "outputs": [
    {
     "name": "stdout",
     "output_type": "stream",
     "text": [
      "* Company\n",
      "* Link\n",
      "* Pitch\n",
      "* Joined\n",
      "* Location\n",
      "* Market\n",
      "* Website\n",
      "* Employees\n",
      "* Stage\n",
      "* Total_raised\n"
     ]
    }
   ],
   "source": [
    "get_cols(angelco_df_no_outliers)"
   ]
  },
  {
   "cell_type": "markdown",
   "metadata": {},
   "source": [
    "<p>This is the count of startups by location. </p>"
   ]
  },
  {
   "cell_type": "code",
   "execution_count": 166,
   "metadata": {},
   "outputs": [
    {
     "data": {
      "image/png": "[encoded data removed]",
      "text/plain": [
       "<matplotlib.figure.Figure at 0x7ffb8abe8eb8>"
      ]
     },
     "metadata": {},
     "output_type": "display_data"
    }
   ],
   "source": [
    "plot_data(\n",
    "    x_col = pd.DataFrame(angelco_df_no_outliers['Location'].value_counts()).index,\n",
    "    y_col = angelco_df_no_outliers['Location'].value_counts(), \n",
    "    is_df = False,\n",
    "    grid = False,\n",
    "    x_axis_rotation = 90,\n",
    "    plot_type = \"bar\",\n",
    "    xlabel = \"Location\", \n",
    "    ylabel = \"Count of startups\",\n",
    "    title = \"Number of startups by location.\",\n",
    ")"
   ]
  },
  {
   "cell_type": "code",
   "execution_count": 162,
   "metadata": {
    "scrolled": false
   },
   "outputs": [
    {
     "name": "stdout",
     "output_type": "stream",
     "text": [
      "San Francisco has a sum amount of investments of $943,801,577.00\n",
      "New York City has a sum amount of investments of $536,981,781.00\n"
     ]
    },
    {
     "data": {
      "image/png": "[encoded data removed]",
      "text/plain": [
       "<matplotlib.figure.Figure at 0x7ffb8aeb82e8>"
      ]
     },
     "metadata": {},
     "output_type": "display_data"
    }
   ],
   "source": [
    "plot_data(\n",
    "    x_col = pd.DataFrame(angelco_df_no_outliers.groupby('Location')['Total_raised'].sum()).index,\n",
    "    y_col = angelco_df_no_outliers.groupby('Location')['Total_raised'].sum(), \n",
    "    is_df = False,\n",
    "    grid = False,\n",
    "    dollars = True,\n",
    "    x_axis_rotation = 90,\n",
    "    plot_type = \"bar\",\n",
    "    xlabel = \"Location\", \n",
    "    ylabel = \"Investment sum\",\n",
    "    title = \"Investment sum by location\",\n",
    ")\n",
    "\n",
    "location = \"San Francisco\"\n",
    "max_value = pd.DataFrame(angelco_df_no_outliers.groupby('Location')['Total_raised'].sum()).loc[location][\"Total_raised\"]\n",
    "max_value = get_dollar_values(max_value)\n",
    "print(\"{} has a sum amount of investments of {}\".format(location, max_value))\n",
    "\n",
    "location = \"New York City\"\n",
    "max_value = pd.DataFrame(angelco_df_no_outliers.groupby('Location')['Total_raised'].sum()).loc[location][\"Total_raised\"]\n",
    "max_value = get_dollar_values(max_value)\n",
    "print(\"{} has a sum amount of investments of {}\".format(location, max_value))\n"
   ]
  },
  {
   "cell_type": "code",
   "execution_count": null,
   "metadata": {},
   "outputs": [],
   "source": []
  }
 ],
 "metadata": {
  "kernelspec": {
   "display_name": "Python 3",
   "language": "python",
   "name": "python3"
  },
  "language_info": {
   "codemirror_mode": {
    "name": "ipython",
    "version": 3
   },
   "file_extension": ".py",
   "mimetype": "text/x-python",
   "name": "python",
   "nbconvert_exporter": "python",
   "pygments_lexer": "ipython3",
   "version": "3.6.4"
  }
 },
 "nbformat": 4,
 "nbformat_minor": 2
}
